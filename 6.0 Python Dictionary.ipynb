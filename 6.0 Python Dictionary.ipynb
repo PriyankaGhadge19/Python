{
 "cells": [
  {
   "cell_type": "markdown",
   "id": "f5386879",
   "metadata": {},
   "source": [
    "### Dictionary\n"
   ]
  },
  {
   "cell_type": "markdown",
   "id": "7aa24284",
   "metadata": {},
   "source": [
    "1.Dict.is nothing but mapping the data.\n",
    "2.Data must map in between key ,value pair.\n",
    "2.It is used to mapping the data in the key values pair.\n",
    "3.{'Key':'Value'}\n",
    "4.Duplicate values are not allowed for the karys only.\n",
    "5.It is orderd.\n",
    "6.We can use heterogenous element like ('int',float etc...)"
   ]
  },
  {
   "cell_type": "markdown",
   "id": "ec9bfd57",
   "metadata": {},
   "source": [
    "### How to create empty dict"
   ]
  },
  {
   "cell_type": "code",
   "execution_count": 1,
   "id": "a78dfdd8",
   "metadata": {
    "scrolled": true
   },
   "outputs": [
    {
     "name": "stdout",
     "output_type": "stream",
     "text": [
      "<class 'dict'>\n"
     ]
    }
   ],
   "source": [
    "a={}\n",
    "print(type(a))"
   ]
  },
  {
   "cell_type": "markdown",
   "id": "887b4f53",
   "metadata": {},
   "source": [
    "By using dict consructure we can define dictionary"
   ]
  },
  {
   "cell_type": "code",
   "execution_count": 3,
   "id": "ec96a746",
   "metadata": {},
   "outputs": [
    {
     "name": "stdout",
     "output_type": "stream",
     "text": [
      "<class 'dict'>\n"
     ]
    }
   ],
   "source": [
    "b=dict()\n",
    "print(type(b))"
   ]
  },
  {
   "cell_type": "code",
   "execution_count": 7,
   "id": "7efb1720",
   "metadata": {},
   "outputs": [
    {
     "name": "stdout",
     "output_type": "stream",
     "text": [
      "{'Name': 'Virat', 'Age': 32, 'team': 'RCB'}\n",
      "<class 'dict'>\n"
     ]
    }
   ],
   "source": [
    "my_dict={'Name':'Virat','Age':32,'team':'RCB'}\n",
    "print(my_dict)\n",
    "print(type(my_dict))"
   ]
  },
  {
   "cell_type": "code",
   "execution_count": 9,
   "id": "f5bc1db6",
   "metadata": {
    "scrolled": true
   },
   "outputs": [
    {
     "name": "stdout",
     "output_type": "stream",
     "text": [
      "{'Engish': 80, 'Hindi': 89, 'Science': [90, 22, 20]}\n"
     ]
    }
   ],
   "source": [
    "marks={'Engish':80,'Hindi':89,'Science':[90,22,20]}\n",
    "print(marks)"
   ]
  },
  {
   "cell_type": "markdown",
   "id": "72e778a8",
   "metadata": {},
   "source": [
    "### How to add the elements in the dictionary"
   ]
  },
  {
   "cell_type": "code",
   "execution_count": 10,
   "id": "400b57a2",
   "metadata": {},
   "outputs": [],
   "source": [
    "marks['Maths']=90"
   ]
  },
  {
   "cell_type": "code",
   "execution_count": 11,
   "id": "c6723ab0",
   "metadata": {},
   "outputs": [
    {
     "name": "stdout",
     "output_type": "stream",
     "text": [
      "{'Engish': 80, 'Hindi': 89, 'Science': [90, 22, 20], 'Maths': 90}\n"
     ]
    }
   ],
   "source": [
    "print(marks)"
   ]
  },
  {
   "cell_type": "code",
   "execution_count": 14,
   "id": "e9f35859",
   "metadata": {},
   "outputs": [
    {
     "name": "stdout",
     "output_type": "stream",
     "text": [
      "Original dict: {'CSK': 'MSD', 'MI': 'Rohit'}\n",
      "New dict: {'CSK': 'MSD', 'MI': 'Rohit', 'GT': 'Hardik'}\n"
     ]
    }
   ],
   "source": [
    "Sports={'CSK':'MSD','MI':'Rohit'}\n",
    "print('Original dict:',Sports)\n",
    "\n",
    "Sports['GT']='Hardik'\n",
    "print('New dict:',Sports)\n",
    "    "
   ]
  },
  {
   "cell_type": "markdown",
   "id": "3c99bf98",
   "metadata": {},
   "source": [
    "### Duplicate values are not allowed"
   ]
  },
  {
   "cell_type": "code",
   "execution_count": 18,
   "id": "186aea8e",
   "metadata": {},
   "outputs": [
    {
     "name": "stdout",
     "output_type": "stream",
     "text": [
      "Original dict: {'CSK': 'MSD', 'MI': 'Rohit', 'GT': 'Hardik'}\n"
     ]
    }
   ],
   "source": [
    "Sports1={'CSK':'MSD','MI':'Rohit','CSK':'MSD','GT':'Hardik'}\n",
    "print('Original dict:',Sports1)"
   ]
  },
  {
   "cell_type": "code",
   "execution_count": 19,
   "id": "9564670e",
   "metadata": {},
   "outputs": [
    {
     "name": "stdout",
     "output_type": "stream",
     "text": [
      "{'City': 'Pune', 'Temprature': 29, 'Humidity': 23}\n"
     ]
    }
   ],
   "source": [
    "data={'City':'Pune','Temprature':29,'Humidity':23}\n",
    "print(data)"
   ]
  },
  {
   "cell_type": "markdown",
   "id": "acb3a5c8",
   "metadata": {},
   "source": [
    "### How to find out keys by using dict."
   ]
  },
  {
   "cell_type": "code",
   "execution_count": 24,
   "id": "5bb49214",
   "metadata": {},
   "outputs": [
    {
     "name": "stdout",
     "output_type": "stream",
     "text": [
      "{'City': 'Pune', 'Temprature': 29, 'Humidity': 23}\n"
     ]
    }
   ],
   "source": [
    "data={'City':'Pune','Temprature':29,'Humidity':23}\n",
    "print(data)"
   ]
  },
  {
   "cell_type": "code",
   "execution_count": 23,
   "id": "a4db0d45",
   "metadata": {},
   "outputs": [
    {
     "data": {
      "text/plain": [
       "dict_keys(['City', 'Temprature', 'Humidity'])"
      ]
     },
     "execution_count": 23,
     "metadata": {},
     "output_type": "execute_result"
    }
   ],
   "source": [
    "data.keys()\n"
   ]
  },
  {
   "cell_type": "code",
   "execution_count": 26,
   "id": "adc0d81e",
   "metadata": {},
   "outputs": [
    {
     "data": {
      "text/plain": [
       "dict_values(['Pune', 29, 23])"
      ]
     },
     "execution_count": 26,
     "metadata": {},
     "output_type": "execute_result"
    }
   ],
   "source": [
    "data.values()"
   ]
  },
  {
   "cell_type": "markdown",
   "id": "89fb2181",
   "metadata": {},
   "source": [
    "### Mutable"
   ]
  },
  {
   "cell_type": "markdown",
   "id": "eee415bf",
   "metadata": {},
   "source": [
    "Values are change.\n",
    "Keys are not changes"
   ]
  },
  {
   "cell_type": "code",
   "execution_count": 35,
   "id": "ca8e3ac7",
   "metadata": {},
   "outputs": [
    {
     "name": "stdout",
     "output_type": "stream",
     "text": [
      "{'City': 'Pune', 'Temprature': 29, 'Humidity': 23, 'Season': 'Rainy'}\n"
     ]
    }
   ],
   "source": [
    "data1={'City':'Pune','Temprature':29,'Humidity':23,'Season':'Rainy'}\n",
    "print(data1)"
   ]
  },
  {
   "cell_type": "code",
   "execution_count": 36,
   "id": "5a0f4388",
   "metadata": {},
   "outputs": [],
   "source": [
    "data1['City']='Mumbai'"
   ]
  },
  {
   "cell_type": "code",
   "execution_count": 37,
   "id": "c29704db",
   "metadata": {},
   "outputs": [
    {
     "data": {
      "text/plain": [
       "{'City': 'Mumbai', 'Temprature': 29, 'Humidity': 23, 'Season': 'Rainy'}"
      ]
     },
     "execution_count": 37,
     "metadata": {},
     "output_type": "execute_result"
    }
   ],
   "source": [
    "data1"
   ]
  },
  {
   "cell_type": "markdown",
   "id": "fa084aa0",
   "metadata": {},
   "source": [
    "### Function in dict / Methods"
   ]
  },
  {
   "cell_type": "code",
   "execution_count": 39,
   "id": "ec17ddaf",
   "metadata": {},
   "outputs": [
    {
     "data": {
      "text/plain": [
       "{'Name': 'Sam', 'Age': 15, 'Class': 10, 'Address': 'Pune'}"
      ]
     },
     "execution_count": 39,
     "metadata": {},
     "output_type": "execute_result"
    }
   ],
   "source": [
    "student={'Name':'Sam','Age':15,'Class':10,'Address':'Pune'}\n",
    "student"
   ]
  },
  {
   "cell_type": "markdown",
   "id": "adc5d2e9",
   "metadata": {},
   "source": [
    "#### 1.len()"
   ]
  },
  {
   "cell_type": "code",
   "execution_count": 40,
   "id": "4c4dd3e1",
   "metadata": {},
   "outputs": [
    {
     "name": "stdout",
     "output_type": "stream",
     "text": [
      "4\n"
     ]
    }
   ],
   "source": [
    "student={'Name':'Sam','Age':15,'Class':10,'Address':'Pune'}\n",
    "print(len(student))"
   ]
  },
  {
   "cell_type": "code",
   "execution_count": 41,
   "id": "45cd2b94",
   "metadata": {},
   "outputs": [
    {
     "name": "stdout",
     "output_type": "stream",
     "text": [
      "5\n"
     ]
    }
   ],
   "source": [
    "student={'Name':'Sam','Age':15,'Class':10,'Address':'Pune','School':'ABC'}\n",
    "print(len(student))"
   ]
  },
  {
   "cell_type": "markdown",
   "id": "a250585a",
   "metadata": {},
   "source": [
    "### 2.Keys()"
   ]
  },
  {
   "cell_type": "code",
   "execution_count": 42,
   "id": "5de37460",
   "metadata": {},
   "outputs": [
    {
     "data": {
      "text/plain": [
       "dict_keys(['Name', 'Age', 'Class', 'Address', 'School'])"
      ]
     },
     "execution_count": 42,
     "metadata": {},
     "output_type": "execute_result"
    }
   ],
   "source": [
    "student={'Name':'Sam','Age':15,'Class':10,'Address':'Pune','School':'ABC'}\n",
    "student.keys()"
   ]
  },
  {
   "cell_type": "markdown",
   "id": "69fa6488",
   "metadata": {},
   "source": [
    "### 3.values()"
   ]
  },
  {
   "cell_type": "code",
   "execution_count": 43,
   "id": "3a99fc25",
   "metadata": {},
   "outputs": [
    {
     "data": {
      "text/plain": [
       "dict_values(['Sam', 15, 10, 'Pune', 'ABC'])"
      ]
     },
     "execution_count": 43,
     "metadata": {},
     "output_type": "execute_result"
    }
   ],
   "source": [
    "student={'Name':'Sam','Age':15,'Class':10,'Address':'Pune','School':'ABC'}\n",
    "student.values()"
   ]
  },
  {
   "cell_type": "markdown",
   "id": "2b8a6d89",
   "metadata": {},
   "source": [
    "### 4.item()"
   ]
  },
  {
   "cell_type": "code",
   "execution_count": 44,
   "id": "6d851cb3",
   "metadata": {},
   "outputs": [
    {
     "data": {
      "text/plain": [
       "dict_items([('Name', 'Sam'), ('Age', 15), ('Class', 10), ('Address', 'Pune'), ('School', 'ABC')])"
      ]
     },
     "execution_count": 44,
     "metadata": {},
     "output_type": "execute_result"
    }
   ],
   "source": [
    "student={'Name':'Sam','Age':15,'Class':10,'Address':'Pune','School':'ABC'}\n",
    "student.items()"
   ]
  },
  {
   "cell_type": "code",
   "execution_count": null,
   "id": "141cfb41",
   "metadata": {},
   "outputs": [],
   "source": []
  },
  {
   "cell_type": "markdown",
   "id": "32dd46f1",
   "metadata": {},
   "source": [
    "### 5.get()"
   ]
  },
  {
   "cell_type": "markdown",
   "id": "4e28efc6",
   "metadata": {},
   "source": [
    "It returns the value of give key"
   ]
  },
  {
   "cell_type": "code",
   "execution_count": 50,
   "id": "d2b2928a",
   "metadata": {},
   "outputs": [],
   "source": [
    "my_dict={'Data Analyst':'Python','Data Scientist':'Machine Learing','SQL Developer':'SQL'}"
   ]
  },
  {
   "cell_type": "code",
   "execution_count": 51,
   "id": "859d35b3",
   "metadata": {},
   "outputs": [
    {
     "data": {
      "text/plain": [
       "'Python'"
      ]
     },
     "execution_count": 51,
     "metadata": {},
     "output_type": "execute_result"
    }
   ],
   "source": [
    "my_dict.get('Data Analyst')"
   ]
  },
  {
   "cell_type": "markdown",
   "id": "401bb028",
   "metadata": {},
   "source": [
    "key-single\n",
    "keys-multiple"
   ]
  },
  {
   "cell_type": "code",
   "execution_count": 54,
   "id": "73a376f4",
   "metadata": {},
   "outputs": [
    {
     "data": {
      "text/plain": [
       "'Python'"
      ]
     },
     "execution_count": 54,
     "metadata": {},
     "output_type": "execute_result"
    }
   ],
   "source": [
    "my_dict.get('Data Analyst','Data Scientist')"
   ]
  },
  {
   "cell_type": "code",
   "execution_count": 55,
   "id": "7485f857",
   "metadata": {},
   "outputs": [
    {
     "data": {
      "text/plain": [
       "'Machine Learing'"
      ]
     },
     "execution_count": 55,
     "metadata": {},
     "output_type": "execute_result"
    }
   ],
   "source": [
    "my_dict.get('Data Scientist')"
   ]
  },
  {
   "cell_type": "markdown",
   "id": "c4a44631",
   "metadata": {},
   "source": [
    "### 6.pop()"
   ]
  },
  {
   "cell_type": "markdown",
   "id": "9892714c",
   "metadata": {},
   "source": [
    "Pop remove the value from the dict. but we want to give the name of perticular key."
   ]
  },
  {
   "cell_type": "code",
   "execution_count": 56,
   "id": "594b389a",
   "metadata": {},
   "outputs": [],
   "source": [
    "my_data={'Data Analyst':'Python','Data Scientist':'Machine Learing','SQL Developer':'SQL','num':20}"
   ]
  },
  {
   "cell_type": "code",
   "execution_count": 59,
   "id": "fed94442",
   "metadata": {},
   "outputs": [
    {
     "data": {
      "text/plain": [
       "20"
      ]
     },
     "execution_count": 59,
     "metadata": {},
     "output_type": "execute_result"
    }
   ],
   "source": [
    "my_data.pop('num')"
   ]
  },
  {
   "cell_type": "code",
   "execution_count": 60,
   "id": "ad97aba4",
   "metadata": {},
   "outputs": [
    {
     "data": {
      "text/plain": [
       "{'Data Analyst': 'Python',\n",
       " 'Data Scientist': 'Machine Learing',\n",
       " 'SQL Developer': 'SQL'}"
      ]
     },
     "execution_count": 60,
     "metadata": {},
     "output_type": "execute_result"
    }
   ],
   "source": [
    "my_data"
   ]
  },
  {
   "cell_type": "markdown",
   "id": "37a135cd",
   "metadata": {},
   "source": [
    "### 7.copy()"
   ]
  },
  {
   "cell_type": "markdown",
   "id": "2426999f",
   "metadata": {},
   "source": [
    "a shallow copy of given dict."
   ]
  },
  {
   "cell_type": "code",
   "execution_count": 63,
   "id": "f970a79b",
   "metadata": {},
   "outputs": [
    {
     "name": "stdout",
     "output_type": "stream",
     "text": [
      "Original Data: {'Name': 'Sam', 'Age': 15, 'Class': 10, 'Address': 'Pune', 'School': 'ABC'}\n",
      "Copied data {'Name': 'Sam', 'Age': 15, 'Class': 10, 'Address': 'Pune', 'School': 'ABC'}\n"
     ]
    }
   ],
   "source": [
    "student1={'Name':'Sam','Age':15,'Class':10,'Address':'Pune','School':'ABC'}\n",
    "print('Original Data:',student1)\n",
    "\n",
    "copied_data=student1.copy()\n",
    "print('Copied data',copied_data)"
   ]
  },
  {
   "cell_type": "markdown",
   "id": "1a796ee8",
   "metadata": {},
   "source": [
    "### 8.clear"
   ]
  },
  {
   "cell_type": "code",
   "execution_count": 66,
   "id": "85290189",
   "metadata": {},
   "outputs": [
    {
     "name": "stdout",
     "output_type": "stream",
     "text": [
      "Original Data: {'Name': 'Sam', 'Age': 15, 'Class': 10, 'Address': 'Pune', 'School': 'ABC'}\n",
      "After using clear function: None\n"
     ]
    }
   ],
   "source": [
    "student1={'Name':'Sam','Age':15,'Class':10,'Address':'Pune','School':'ABC'}\n",
    "print('Original Data:',student1)\n",
    "\n",
    "d=student1.clear()\n",
    "print('After using clear function:',d)\n"
   ]
  }
 ],
 "metadata": {
  "kernelspec": {
   "display_name": "Python 3",
   "language": "python",
   "name": "python3"
  },
  "language_info": {
   "codemirror_mode": {
    "name": "ipython",
    "version": 3
   },
   "file_extension": ".py",
   "mimetype": "text/x-python",
   "name": "python",
   "nbconvert_exporter": "python",
   "pygments_lexer": "ipython3",
   "version": "3.8.8"
  }
 },
 "nbformat": 4,
 "nbformat_minor": 5
}
